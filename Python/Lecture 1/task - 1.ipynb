{
  "nbformat": 4,
  "nbformat_minor": 0,
  "metadata": {
    "colab": {
      "provenance": [],
      "toc_visible": true
    },
    "kernelspec": {
      "name": "python3",
      "display_name": "Python 3"
    },
    "language_info": {
      "name": "python"
    }
  },
  "cells": [
    {
      "cell_type": "markdown",
      "source": [
        "# Task : Session 1\n",
        "Solve these questions own your own and try to test yourself what you have learned in the session.\n",
        "\n",
        "Happy Learning!"
      ],
      "metadata": {
        "id": "A05OG15VqOPF"
      }
    },
    {
      "cell_type": "markdown",
      "source": [
        "### Q1 :- Print the given strings as per stated format.\n",
        "\n",
        "**Given strings**:\n",
        "```\n",
        "\"Data\" \"Science\" \"Mentorship\" \"Program\"\n",
        "\"By\" \"CampusX\"\n",
        "```\n",
        "**Output**:\n",
        "```\n",
        "Data-Science-Mentorship-Program-started-By-CampusX\n",
        "```\n",
        "\n",
        "Concept- [Seperator and End]"
      ],
      "metadata": {
        "id": "2doIXf8bqe9_"
      }
    },
    {
      "cell_type": "code",
      "source": [
        "# Write your code here\n",
        "print(\"Data\", \"Science\", \"Mentorship\", \"Program\", \"By\", \"CampusX\", sep = '-')"
      ],
      "metadata": {
        "id": "-em6d3KErDtp",
        "outputId": "46c692d7-6778-4c1b-a8bb-db6bad1a15e7",
        "colab": {
          "base_uri": "https://localhost:8080/"
        }
      },
      "execution_count": 1,
      "outputs": [
        {
          "output_type": "stream",
          "name": "stdout",
          "text": [
            "Data-Science-Mentorship-Program-By-CampusX\n"
          ]
        }
      ]
    },
    {
      "cell_type": "markdown",
      "source": [
        "### Q2:- Write a program that will convert celsius value to fahrenheit."
      ],
      "metadata": {
        "id": "1KUpN7ZTrC3_"
      }
    },
    {
      "cell_type": "code",
      "source": [
        "# Write your code here\n",
        "temperature = int(input(\"Enter temperature : \"))\n",
        "print(temperature * 32)"
      ],
      "metadata": {
        "id": "yxKYhYQiqWfj",
        "outputId": "afb2eacd-af29-4c4b-de9d-824099af9938",
        "colab": {
          "base_uri": "https://localhost:8080/"
        }
      },
      "execution_count": 3,
      "outputs": [
        {
          "output_type": "stream",
          "name": "stdout",
          "text": [
            "Enter temperature : 10\n",
            "320\n"
          ]
        }
      ]
    },
    {
      "cell_type": "markdown",
      "source": [
        "### Q3:- Take 2 numbers as input from the user.Write a program to swap the numbers without using any special python syntax."
      ],
      "metadata": {
        "id": "RLrOBBJurLB2"
      }
    },
    {
      "cell_type": "code",
      "source": [
        "# Write your code here\n",
        "a = int(input(\"Enter first number : \"))\n",
        "b = int(input(\"Enter second number : \"))\n",
        "\n",
        "a, b = b, a\n",
        "\n",
        "print(f\"a = {a}, b = {b}\")"
      ],
      "metadata": {
        "id": "yPn7if0TrJ4F",
        "outputId": "34fdfe83-d0ce-47de-a815-442aef364cf3",
        "colab": {
          "base_uri": "https://localhost:8080/"
        }
      },
      "execution_count": 6,
      "outputs": [
        {
          "output_type": "stream",
          "name": "stdout",
          "text": [
            "Enter first number : 1\n",
            "Enter second number : 2\n",
            "a = 2, b = 1\n"
          ]
        }
      ]
    },
    {
      "cell_type": "markdown",
      "source": [
        "### Q4:- Write a program to find the euclidean distance between two coordinates.Take both the coordinates from the user as input."
      ],
      "metadata": {
        "id": "waLCP1bjr7ML"
      }
    },
    {
      "cell_type": "code",
      "source": [
        "# Write your code here\n",
        "x1 = float(input(\"Enter x-cordinate of ptr1: \"))\n",
        "y1 = float(input(\"Enter y-cordinate of ptr1: \"))\n",
        "\n",
        "x2 = float(input(\"Enter x-cordinate of ptr2: \"))\n",
        "y2 = float(input(\"Enter y-cordinate of ptr2: \"))\n",
        "\n",
        "distance = (((y2 - y1)**2) + ((x2 - x1)**2))**(1/2) # This last bracket is important\n",
        "print(\"Distance : \", distance)"
      ],
      "metadata": {
        "id": "Pl1Sv-xnrxnH",
        "outputId": "13b4d2ee-75b6-4929-a24a-2fc768f97be5",
        "colab": {
          "base_uri": "https://localhost:8080/"
        }
      },
      "execution_count": 12,
      "outputs": [
        {
          "output_type": "stream",
          "name": "stdout",
          "text": [
            "Enter x-cordinate of ptr1: 1\n",
            "Enter y-cordinate of ptr1: 1\n",
            "Enter x-cordinate of ptr2: 2\n",
            "Enter y-cordinate of ptr2: 2\n",
            "Distance :  1.4142135623730951\n"
          ]
        }
      ]
    },
    {
      "cell_type": "markdown",
      "source": [
        "### Q5:- Write a program to find the simple interest when the value of principle,rate of interest and time period is provided by the user.\n"
      ],
      "metadata": {
        "id": "VLrhg-FRsHjR"
      }
    },
    {
      "cell_type": "code",
      "source": [
        "# Write your code here\n",
        "principle = float(input(\"Enter principle amount : \"))\n",
        "rate_of_interest = float(input(\"Enter rate of interest : \"))\n",
        "time_period = float(input(\"Enter time period in years : \"))\n",
        "\n",
        "si = principle * rate_of_interest * time_period / 100\n",
        "print(si)"
      ],
      "metadata": {
        "id": "s40DlReZsTmY",
        "outputId": "1cd87bf1-6530-4461-d7c6-a718d3dd6a98",
        "colab": {
          "base_uri": "https://localhost:8080/"
        }
      },
      "execution_count": 14,
      "outputs": [
        {
          "output_type": "stream",
          "name": "stdout",
          "text": [
            "Enter principle amount : 10000\n",
            "Enter rate of interest : 7.8\n",
            "Enter time period in years : 5\n",
            "3900.0\n"
          ]
        }
      ]
    },
    {
      "cell_type": "markdown",
      "source": [
        "### Q6:- Write a program that will tell the number of dogs and chicken are there when the user will provide the value of total heads and legs.\n",
        "\n",
        "For example:\n",
        "Input:\n",
        "heads -> 4\n",
        "legs -> 12\n",
        "<br>\n",
        "Output:\n",
        "dogs -> 2\n",
        "chicken -> 2\n",
        "\n",
        "\n",
        "\n"
      ],
      "metadata": {
        "id": "LMy0BTUktYKa"
      }
    },
    {
      "cell_type": "code",
      "source": [
        "# Write your code here\n",
        "heads = int(input(\"Heads : \"))\n",
        "legs = int(input(\"Legs : \"))\n",
        "\n",
        "chickens = (4 * heads - legs) / 2\n",
        "dogs = heads - chickens\n",
        "\n",
        "print(\"Chickens : \", int(chickens))\n",
        "print(\"Dogs : \", int(dogs))\n",
        "\n",
        "# Using loops\n",
        "\n",
        "# for chicken in range(heads + 1):\n",
        "#     dogs = heads - chicken\n",
        "#     if ((2 * chicken) + (4 * dogs == legs)):\n",
        "#         print(\"Chickens : \", int(chicken))\n",
        "#         print(\"Dogs : \", int(dogs))\n",
        "#         break"
      ],
      "metadata": {
        "id": "XSBvJoA4tXaG",
        "outputId": "6c1bc75b-2548-4d38-9766-25c896ec0335",
        "colab": {
          "base_uri": "https://localhost:8080/"
        }
      },
      "execution_count": 16,
      "outputs": [
        {
          "output_type": "stream",
          "name": "stdout",
          "text": [
            "Heads : 4\n",
            "Legs : 12\n",
            "Chickens :  2\n",
            "Dogs :  2\n"
          ]
        }
      ]
    },
    {
      "cell_type": "markdown",
      "source": [
        "### Q7:- Write a program to find the sum of squares of first n natural numbers where n will be provided by the user."
      ],
      "metadata": {
        "id": "gJ7C5kZYt4BP"
      }
    },
    {
      "cell_type": "code",
      "source": [
        "# Write your code here\n",
        "n = int(input(\"Enter the number : \"))\n",
        "\n",
        "sum_of_squares = n * (n + 1) * (2 * n + 1) / 6\n",
        "print(sum_of_squares)"
      ],
      "metadata": {
        "id": "_tHsmEHzt2nX",
        "outputId": "08b16cec-125a-41aa-ac81-067290b469ca",
        "colab": {
          "base_uri": "https://localhost:8080/"
        }
      },
      "execution_count": 17,
      "outputs": [
        {
          "output_type": "stream",
          "name": "stdout",
          "text": [
            "Enter the number : 3\n",
            "14.0\n"
          ]
        }
      ]
    },
    {
      "cell_type": "markdown",
      "source": [
        "### Q8:- Given the first 2 terms of an Arithmetic Series.Find the Nth term of the series. Assume all inputs are provided by the user."
      ],
      "metadata": {
        "id": "FHrMM7g-yG1h"
      }
    },
    {
      "cell_type": "code",
      "source": [
        "# Write your code here\n",
        "first_term = int(input(\"First term : \"))\n",
        "second_term = int(input(\"Second term : \"))\n",
        "nth_term = int(input(\"n value : \"))\n",
        "\n",
        "cd = second_term - first_term\n",
        "n_term = first_term + ((nth_term - 1) * cd)\n",
        "print(n_term)"
      ],
      "metadata": {
        "id": "go4_kmZmyVSx",
        "outputId": "d6aecd25-9f8e-4d09-d6e4-0dacbfea5e7b",
        "colab": {
          "base_uri": "https://localhost:8080/"
        }
      },
      "execution_count": 21,
      "outputs": [
        {
          "output_type": "stream",
          "name": "stdout",
          "text": [
            "First term : 1\n",
            "Second term : 5\n",
            "n value : 10\n",
            "37\n"
          ]
        }
      ]
    },
    {
      "cell_type": "markdown",
      "source": [
        "### Q9:- Given 2 fractions, find the sum of those 2 fractions.Take the numerator and denominator values of the fractions from the user."
      ],
      "metadata": {
        "id": "QgyRX_es1oum"
      }
    },
    {
      "cell_type": "code",
      "source": [
        "# Write your code here\n",
        "num1 = int(input(\"Enter numerator_1 number : \"))\n",
        "den1 = int(input(\"Enter denomator_1 number : \"))\n",
        "num2 = int(input(\"Enter numerator_2 number : \"))\n",
        "den2 = int(input(\"Enter denomator_2 number : \"))\n",
        "\n",
        "print(((num1 * den2) + (den1 * num2)) / (den1 * den2))"
      ],
      "metadata": {
        "id": "X05xqFS1yW16",
        "outputId": "9f9807af-0019-470c-d04e-65747c0bf347",
        "colab": {
          "base_uri": "https://localhost:8080/"
        }
      },
      "execution_count": 22,
      "outputs": [
        {
          "output_type": "stream",
          "name": "stdout",
          "text": [
            "Enter numerator_1 number : 1\n",
            "Enter denomator_1 number : 2\n",
            "Enter numerator_2 number : 3\n",
            "Enter denomator_2 number : 4\n",
            "1.25\n"
          ]
        }
      ]
    },
    {
      "cell_type": "markdown",
      "source": [
        "### Q10:- Given the height, width and breadth of a milk tank, you have to find out how many glasses of milk can be obtained? Assume all the inputs are provided by the user.\n",
        "\n",
        "\n",
        "\n",
        "Input:<br>\n",
        "Dimensions of the milk tank<br>\n",
        "H = 20cm, L = 20cm, B = 20cm\n",
        "<br><br>\n",
        "Dimensions of the glass<br>\n",
        "h = 3cm, r = 1cm"
      ],
      "metadata": {
        "id": "eaql38ln13u7"
      }
    },
    {
      "cell_type": "code",
      "source": [
        "# Write your code here\n",
        "a = int(input(\"Length : \"))\n",
        "b = int(input(\"Breadth : \"))\n",
        "c = int(input(\"Height : \"))\n",
        "\n",
        "h = int(input(\"Height : \"))\n",
        "r = int(input(\"Radius : \"))\n",
        "\n",
        "print(int((a * b * c) / (3.14 * r * r * h)))"
      ],
      "metadata": {
        "id": "FePZqno74eWv",
        "outputId": "060c38b1-c537-48c6-e366-78bf876c4c02",
        "colab": {
          "base_uri": "https://localhost:8080/"
        }
      },
      "execution_count": 24,
      "outputs": [
        {
          "output_type": "stream",
          "name": "stdout",
          "text": [
            "Length : 10\n",
            "Breadth : 20\n",
            "Height : 30\n",
            "Height : 3\n",
            "Radius : 2\n",
            "159\n"
          ]
        }
      ]
    }
  ]
}