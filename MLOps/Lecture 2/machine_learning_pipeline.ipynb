{
 "cells": [
  {
   "cell_type": "code",
   "execution_count": 1,
   "id": "729276b3",
   "metadata": {},
   "outputs": [],
   "source": [
    "import pandas as pd\n",
    "from sklearn.model_selection import train_test_split, cross_val_score\n",
    "from sklearn.ensemble import RandomForestClassifier\n",
    "from sklearn.metrics import accuracy_score\n",
    "from hyperopt import fmin, tpe, hp\n",
    "from sklearn.pipeline import Pipeline\n",
    "from sklearn.compose import ColumnTransformer\n",
    "from sklearn.preprocessing import StandardScaler\n",
    "from sklearn.impute import SimpleImputer"
   ]
  },
  {
   "cell_type": "code",
   "execution_count": 2,
   "id": "f6e31911",
   "metadata": {},
   "outputs": [],
   "source": [
    "# 1. Reading data from CSV\n",
    "def read_csv(file_path):\n",
    "    return pd.read_csv(file_path)\n",
    "\n",
    "# 2. Creating features\n",
    "def create_features(data):\n",
    "    # Sepel Area and Petal Area\n",
    "    data['sapel_area'] = data['sepal length (cm)'] * data['sepal width (cm)']\n",
    "    data['petal_area'] = data['petal length (cm)'] * data['petal width (cm)']\n",
    "    return data\n",
    "\n",
    "# 3. Training a classifier model\n",
    "def train_classifier(data):\n",
    "    X_train, X_test, y_train, y_test = train_test_split(X, y, test_size=0.2, random_state=42)\n",
    "\n",
    "    model = RandomForestClassifier()\n",
    "    model.fit(X_train, y_train)\n",
    "\n",
    "    y_pred = model.predict(X_test)\n",
    "    accuracy = accuracy_score(y_test, y_pred)\n",
    "\n",
    "    return model, accuracy\n",
    "\n",
    "# 4. Hyperparameter tuning with Hyperopt\n",
    "def objective(params):\n",
    "    model = RandomForestClassifier(**params)\n",
    "    score = cross_val_score(model, X, y, cv=5).mean()\n",
    "    return -score  # Minimize negative accuracy\n",
    "\n",
    "# 5. Evaluating the model on the test set\n",
    "def evaluate_model(model, X_test, y_test):\n",
    "    y_pred = model.predict(X_test)\n",
    "    accuracy = accuracy_score(y_test, y_pred)\n",
    "    return accuracy"
   ]
  },
  {
   "cell_type": "code",
   "execution_count": 3,
   "id": "3319d235",
   "metadata": {},
   "outputs": [
    {
     "data": {
      "text/html": [
       "<div>\n",
       "<style scoped>\n",
       "    .dataframe tbody tr th:only-of-type {\n",
       "        vertical-align: middle;\n",
       "    }\n",
       "\n",
       "    .dataframe tbody tr th {\n",
       "        vertical-align: top;\n",
       "    }\n",
       "\n",
       "    .dataframe thead th {\n",
       "        text-align: right;\n",
       "    }\n",
       "</style>\n",
       "<table border=\"1\" class=\"dataframe\">\n",
       "  <thead>\n",
       "    <tr style=\"text-align: right;\">\n",
       "      <th></th>\n",
       "      <th>sepal length (cm)</th>\n",
       "      <th>sepal width (cm)</th>\n",
       "      <th>petal length (cm)</th>\n",
       "      <th>petal width (cm)</th>\n",
       "      <th>target</th>\n",
       "    </tr>\n",
       "  </thead>\n",
       "  <tbody>\n",
       "    <tr>\n",
       "      <th>0</th>\n",
       "      <td>5.1</td>\n",
       "      <td>3.5</td>\n",
       "      <td>1.4</td>\n",
       "      <td>0.2</td>\n",
       "      <td>0.0</td>\n",
       "    </tr>\n",
       "    <tr>\n",
       "      <th>1</th>\n",
       "      <td>4.9</td>\n",
       "      <td>3.0</td>\n",
       "      <td>1.4</td>\n",
       "      <td>0.2</td>\n",
       "      <td>0.0</td>\n",
       "    </tr>\n",
       "    <tr>\n",
       "      <th>2</th>\n",
       "      <td>4.7</td>\n",
       "      <td>3.2</td>\n",
       "      <td>1.3</td>\n",
       "      <td>0.2</td>\n",
       "      <td>0.0</td>\n",
       "    </tr>\n",
       "    <tr>\n",
       "      <th>3</th>\n",
       "      <td>4.6</td>\n",
       "      <td>3.1</td>\n",
       "      <td>1.5</td>\n",
       "      <td>0.2</td>\n",
       "      <td>0.0</td>\n",
       "    </tr>\n",
       "    <tr>\n",
       "      <th>4</th>\n",
       "      <td>5.0</td>\n",
       "      <td>3.6</td>\n",
       "      <td>1.4</td>\n",
       "      <td>0.2</td>\n",
       "      <td>0.0</td>\n",
       "    </tr>\n",
       "  </tbody>\n",
       "</table>\n",
       "</div>"
      ],
      "text/plain": [
       "   sepal length (cm)  sepal width (cm)  petal length (cm)  petal width (cm)  \\\n",
       "0                5.1               3.5                1.4               0.2   \n",
       "1                4.9               3.0                1.4               0.2   \n",
       "2                4.7               3.2                1.3               0.2   \n",
       "3                4.6               3.1                1.5               0.2   \n",
       "4                5.0               3.6                1.4               0.2   \n",
       "\n",
       "   target  \n",
       "0     0.0  \n",
       "1     0.0  \n",
       "2     0.0  \n",
       "3     0.0  \n",
       "4     0.0  "
      ]
     },
     "execution_count": 3,
     "metadata": {},
     "output_type": "execute_result"
    }
   ],
   "source": [
    "from sklearn.datasets import load_iris\n",
    "import numpy as np\n",
    "data = load_iris(as_frame = True)\n",
    "df = pd.DataFrame(np.hstack((data.data, np.array(data.target).reshape(-1, 1))), columns = [col for col in data.data.columns] + ['target'])\n",
    "df.head()"
   ]
  },
  {
   "cell_type": "code",
   "execution_count": 4,
   "id": "9ef23e62",
   "metadata": {},
   "outputs": [
    {
     "name": "stdout",
     "output_type": "stream",
     "text": [
      "Model accuracy on test set: 1.0\n",
      "100%|█████████████████████████████████████████████| 100/100 [01:47<00:00,  1.08s/trial, best loss: -0.9666666666666668]\n"
     ]
    }
   ],
   "source": [
    "# Split data into features and target\n",
    "X = df.drop('target', axis=1)\n",
    "y = df['target']\n",
    "\n",
    "# Split data into training and test sets\n",
    "X_train, X_test, y_train, y_test = train_test_split(X, y, test_size=0.2, random_state=42)\n",
    "\n",
    "# Define the pipeline\n",
    "pipeline = Pipeline([\n",
    "    ('preprocessor', ColumnTransformer(\n",
    "        transformers=[\n",
    "            ('num', StandardScaler(), X_train.columns)\n",
    "        ],\n",
    "        remainder='passthrough'\n",
    "    )),\n",
    "    ('classifier', RandomForestClassifier())\n",
    "])\n",
    "\n",
    "# Train the model\n",
    "pipeline.fit(X_train, y_train)\n",
    "\n",
    "# Evaluate the model\n",
    "y_pred = pipeline.predict(X_test)\n",
    "accuracy = accuracy_score(y_test, y_pred)\n",
    "print(f\"Model accuracy on test set: {accuracy}\")\n",
    "\n",
    "# Hyperparameter tuning using Tree of Parzen Estimators (TPE)\n",
    "space = {\n",
    "    'n_estimators': hp.choice('n_estimators', range(10, 101)),\n",
    "    'max_depth': hp.choice('max_depth', range(1, 21))\n",
    "}\n",
    "\n",
    "best_params = fmin(fn=objective, space=space, algo=tpe.suggest, max_evals=100)\n",
    "# algo: The algorithm used for optimization; in this case, it uses tpe.suggest, which is a Bayesian optimization algorithm."
   ]
  },
  {
   "cell_type": "code",
   "execution_count": 5,
   "id": "b184a0cd",
   "metadata": {},
   "outputs": [
    {
     "data": {
      "text/plain": [
       "{'max_depth': 4, 'n_estimators': 67}"
      ]
     },
     "execution_count": 5,
     "metadata": {},
     "output_type": "execute_result"
    }
   ],
   "source": [
    "best_params"
   ]
  },
  {
   "cell_type": "code",
   "execution_count": 6,
   "id": "40f635ac-c524-46d3-9752-221f7965aec1",
   "metadata": {},
   "outputs": [
    {
     "data": {
      "text/plain": [
       "1.0"
      ]
     },
     "execution_count": 6,
     "metadata": {},
     "output_type": "execute_result"
    }
   ],
   "source": [
    "# Update the pipeline with the best hyperparameters\n",
    "pipeline.set_params(classifier__n_estimators = best_params['n_estimators'], classifier__max_depth = best_params['max_depth'])\n",
    "\n",
    "# Train the model with the best hyperparameters\n",
    "pipeline.fit(X_train, y_train)\n",
    "\n",
    "# Evaluate the updated model\n",
    "evaluate_model(pipeline, X_test, y_test)"
   ]
  },
  {
   "cell_type": "code",
   "execution_count": 7,
   "id": "d4bd644e-398e-4e85-b5e6-53b96318aa63",
   "metadata": {},
   "outputs": [
    {
     "data": {
      "text/plain": [
       "{'memory': None,\n",
       " 'steps': [('preprocessor',\n",
       "   ColumnTransformer(remainder='passthrough',\n",
       "                     transformers=[('num', StandardScaler(),\n",
       "                                    Index(['sepal length (cm)', 'sepal width (cm)', 'petal length (cm)',\n",
       "          'petal width (cm)'],\n",
       "         dtype='object'))])),\n",
       "  ('classifier', RandomForestClassifier(max_depth=4, n_estimators=67))],\n",
       " 'verbose': False,\n",
       " 'preprocessor': ColumnTransformer(remainder='passthrough',\n",
       "                   transformers=[('num', StandardScaler(),\n",
       "                                  Index(['sepal length (cm)', 'sepal width (cm)', 'petal length (cm)',\n",
       "        'petal width (cm)'],\n",
       "       dtype='object'))]),\n",
       " 'classifier': RandomForestClassifier(max_depth=4, n_estimators=67),\n",
       " 'preprocessor__n_jobs': None,\n",
       " 'preprocessor__remainder': 'passthrough',\n",
       " 'preprocessor__sparse_threshold': 0.3,\n",
       " 'preprocessor__transformer_weights': None,\n",
       " 'preprocessor__transformers': [('num',\n",
       "   StandardScaler(),\n",
       "   Index(['sepal length (cm)', 'sepal width (cm)', 'petal length (cm)',\n",
       "          'petal width (cm)'],\n",
       "         dtype='object'))],\n",
       " 'preprocessor__verbose': False,\n",
       " 'preprocessor__verbose_feature_names_out': True,\n",
       " 'preprocessor__num': StandardScaler(),\n",
       " 'preprocessor__num__copy': True,\n",
       " 'preprocessor__num__with_mean': True,\n",
       " 'preprocessor__num__with_std': True,\n",
       " 'classifier__bootstrap': True,\n",
       " 'classifier__ccp_alpha': 0.0,\n",
       " 'classifier__class_weight': None,\n",
       " 'classifier__criterion': 'gini',\n",
       " 'classifier__max_depth': 4,\n",
       " 'classifier__max_features': 'sqrt',\n",
       " 'classifier__max_leaf_nodes': None,\n",
       " 'classifier__max_samples': None,\n",
       " 'classifier__min_impurity_decrease': 0.0,\n",
       " 'classifier__min_samples_leaf': 1,\n",
       " 'classifier__min_samples_split': 2,\n",
       " 'classifier__min_weight_fraction_leaf': 0.0,\n",
       " 'classifier__monotonic_cst': None,\n",
       " 'classifier__n_estimators': 67,\n",
       " 'classifier__n_jobs': None,\n",
       " 'classifier__oob_score': False,\n",
       " 'classifier__random_state': None,\n",
       " 'classifier__verbose': 0,\n",
       " 'classifier__warm_start': False}"
      ]
     },
     "execution_count": 7,
     "metadata": {},
     "output_type": "execute_result"
    }
   ],
   "source": [
    "pipeline.get_params()"
   ]
  }
 ],
 "metadata": {
  "kernelspec": {
   "display_name": "Python 3 (ipykernel)",
   "language": "python",
   "name": "python3"
  },
  "language_info": {
   "codemirror_mode": {
    "name": "ipython",
    "version": 3
   },
   "file_extension": ".py",
   "mimetype": "text/x-python",
   "name": "python",
   "nbconvert_exporter": "python",
   "pygments_lexer": "ipython3",
   "version": "3.12.2"
  }
 },
 "nbformat": 4,
 "nbformat_minor": 5
}
